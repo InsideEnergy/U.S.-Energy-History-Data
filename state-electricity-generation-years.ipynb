{
 "cells": [
  {
   "cell_type": "code",
   "execution_count": 4,
   "metadata": {
    "collapsed": true
   },
   "outputs": [],
   "source": [
    "import pandas as pd\n",
    "import numpy as np"
   ]
  },
  {
   "cell_type": "code",
   "execution_count": 5,
   "metadata": {
    "collapsed": false
   },
   "outputs": [],
   "source": [
    "#This function reads the original file, downloaded from the EIA, and calculates the top energy source in each state, as well as the percent of generation that comes from that source, for a specified year\n",
    "def topFuelYear(year, output_filename):\n",
    "    #Read file\n",
    "    df = pd.read_csv('Net_generation_for_all_sectors_2001_2015.csv', skiprows=4)\n",
    "    #Separate out state names\n",
    "    df['geography'], df['fuel-type'] = df['description'].str.split(':',1).str\n",
    "    #Create a column for total utility-scale generation\n",
    "    df['total-util-scale'] = np.where(df['fuel-type'] == ' all fuels (utility-scale)', df[year], np.NaN)\n",
    "    #Createa  column for distributed PV\n",
    "    df['dist-pv'] = np.where(df['fuel-type'] == ' distributed photovoltaic', df[year], np.NaN)\n",
    "    #Fill in null values and remove non-numeric values\n",
    "    df['total-util-scale'].fillna(method='ffill', inplace=True)\n",
    "    df['dist-pv'].fillna(method='bfill', inplace=True)\n",
    "    df = df.replace('--', 0)\n",
    "    df = df.dropna()\n",
    "    df['total-util-scale'] = df['total-util-scale'].astype(float)\n",
    "    df['dist-pv'] = df['dist-pv'].astype(float)\n",
    "    df[year] = df[year].astype(float)\n",
    "    #Add together utility scale and distributed PV to come up with total generation\n",
    "    df['all-generation-including-dist-pv'] = df['total-util-scale'] + df['dist-pv']\n",
    "    #Calculate the percent of generation that comes from each fuel type using both utility-cale and total as the denominator\n",
    "    df['per-util-scale'] = df[year]/df['total-util-scale']\n",
    "    df['per-util-dist'] = df[year]/df['all-generation-including-dist-pv']\n",
    "    df = df[df['fuel-type'] != ' all fuels (utility-scale)']\n",
    "    #Find the fuel source that has the highest percent of generation for each geography\n",
    "    idx = df.groupby('geography')['per-util-scale'].idxmax()\n",
    "    df2 = df.loc[idx,['geography','fuel-type','per-util-scale']]\n",
    "    #Export to CSV\n",
    "    df2.to_csv(output_filename)"
   ]
  },
  {
   "cell_type": "code",
   "execution_count": 6,
   "metadata": {
    "collapsed": false
   },
   "outputs": [],
   "source": [
    "topFuelYear('2015', 'top-fuel-2015.csv')\n",
    "topFuelYear('2010', 'top-fuel-2010.csv')\n",
    "topFuelYear('2005', 'top-fuel-2005.csv')\n",
    "topFuelYear('2001', 'top-fuel-2001.csv')"
   ]
  }
 ],
 "metadata": {
  "kernelspec": {
   "display_name": "Python 2",
   "language": "python",
   "name": "python2"
  },
  "language_info": {
   "codemirror_mode": {
    "name": "ipython",
    "version": 2
   },
   "file_extension": ".py",
   "mimetype": "text/x-python",
   "name": "python",
   "nbconvert_exporter": "python",
   "pygments_lexer": "ipython2",
   "version": "2.7.11"
  }
 },
 "nbformat": 4,
 "nbformat_minor": 0
}
